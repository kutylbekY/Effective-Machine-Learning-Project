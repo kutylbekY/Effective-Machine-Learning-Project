{
 "cells": [
  {
   "cell_type": "code",
   "execution_count": 30,
   "metadata": {},
   "outputs": [],
   "source": [
    "from torchvision import datasets\n",
    "from torchvision.transforms import ToTensor\n",
    "from torch.utils.data import DataLoader\n",
    "\n",
    "import torch.nn as nn\n",
    "import torch.nn.functional as F\n",
    "import torch.optim as optim"
   ]
  },
  {
   "cell_type": "code",
   "execution_count": 31,
   "metadata": {},
   "outputs": [],
   "source": [
    "train_data = datasets.MNIST (\n",
    "    root = 'data',\n",
    "    train = True,\n",
    "    transform = ToTensor(),\n",
    "    download = True\n",
    ")\n",
    "\n",
    "test_data = datasets.MNIST (\n",
    "    root = 'data',\n",
    "    train = False,\n",
    "    transform = ToTensor(),\n",
    "    download = True\n",
    ")"
   ]
  },
  {
   "cell_type": "code",
   "execution_count": 32,
   "metadata": {},
   "outputs": [
    {
     "data": {
      "text/plain": [
       "Dataset MNIST\n",
       "    Number of datapoints: 60000\n",
       "    Root location: data\n",
       "    Split: Train\n",
       "    StandardTransform\n",
       "Transform: ToTensor()"
      ]
     },
     "execution_count": 32,
     "metadata": {},
     "output_type": "execute_result"
    }
   ],
   "source": [
    "train_data"
   ]
  },
  {
   "cell_type": "code",
   "execution_count": 33,
   "metadata": {},
   "outputs": [
    {
     "data": {
      "text/plain": [
       "Dataset MNIST\n",
       "    Number of datapoints: 10000\n",
       "    Root location: data\n",
       "    Split: Test\n",
       "    StandardTransform\n",
       "Transform: ToTensor()"
      ]
     },
     "execution_count": 33,
     "metadata": {},
     "output_type": "execute_result"
    }
   ],
   "source": [
    "test_data"
   ]
  },
  {
   "cell_type": "code",
   "execution_count": 34,
   "metadata": {},
   "outputs": [
    {
     "data": {
      "text/plain": [
       "torch.Size([60000, 28, 28])"
      ]
     },
     "execution_count": 34,
     "metadata": {},
     "output_type": "execute_result"
    }
   ],
   "source": [
    "train_data.data.shape"
   ]
  },
  {
   "cell_type": "code",
   "execution_count": 35,
   "metadata": {},
   "outputs": [
    {
     "data": {
      "text/plain": [
       "torch.Size([10000, 28, 28])"
      ]
     },
     "execution_count": 35,
     "metadata": {},
     "output_type": "execute_result"
    }
   ],
   "source": [
    "test_data.data.shape"
   ]
  },
  {
   "cell_type": "code",
   "execution_count": 36,
   "metadata": {},
   "outputs": [],
   "source": [
    "loaders = {\n",
    "    'train': DataLoader(train_data, batch_size=100, shuffle=True, num_workers=1),\n",
    "    'test': DataLoader(test_data, batch_size=100, shuffle=True, num_workers=1),\n",
    "}"
   ]
  },
  {
   "cell_type": "code",
   "execution_count": 37,
   "metadata": {},
   "outputs": [
    {
     "data": {
      "text/plain": [
       "{'train': <torch.utils.data.dataloader.DataLoader at 0x1ee760df910>,\n",
       " 'test': <torch.utils.data.dataloader.DataLoader at 0x1ee022a1010>}"
      ]
     },
     "execution_count": 37,
     "metadata": {},
     "output_type": "execute_result"
    }
   ],
   "source": [
    "loaders"
   ]
  },
  {
   "cell_type": "code",
   "execution_count": 38,
   "metadata": {},
   "outputs": [],
   "source": [
    "class CNN(nn.Module):\n",
    "\n",
    "    def __init__(self):\n",
    "        super(CNN, self).__init__()\n",
    "\n",
    "        self.conv1 = nn.Conv2d(1, 10, kernel_size=5)\n",
    "        self.conv2 = nn.Conv2d(10, 20, kernel_size=5)\n",
    "        self.conv2_drop = nn.Dropout2d() # doesn't change the shape of the data\n",
    "        self.fc1 = nn.Linear(320, 50) # 20 * 4 * 4 (20 channels, 2 convolutions)\n",
    "        self.fc2 = nn.Linear(50, 10) # last layer must be 10 output neurons\n",
    "\n",
    "    def forward(self, x): # defines activations\n",
    "        x = F.relu(F.max_pool2d(self.conv1(x), 2))\n",
    "        x = F.relu(F.max_pool2d(self.conv2_drop(self.conv2(x)), 2))\n",
    "        x = x.view(-1, 320) # 20 * 4 * 4 (20 channels, 2 convolutions)\n",
    "        x = F.relu(self.fc1(x))\n",
    "        x = F.dropout(x, training=self.training) # so its triggered only during training, not evaluation\n",
    "        x = self.fc2(x)\n",
    "\n",
    "        return F.softmax(x)"
   ]
  },
  {
   "cell_type": "code",
   "execution_count": 39,
   "metadata": {},
   "outputs": [],
   "source": [
    "import torch\n",
    "\n",
    "device = torch.device('cuda' if torch.cuda.is_available() else 'cpu')\n",
    "\n",
    "model = CNN().to(device) # to have them on gpu\n",
    "\n",
    "optimizer = torch.optim.Adam(model.parameters(), lr=0.001)\n",
    "\n",
    "loss_fn = nn.CrossEntropyLoss()\n",
    "\n",
    "def train(epoch):\n",
    "    model.train() # model to train mode\n",
    "    for batch_idx, (data, target) in enumerate(loaders['train']):\n",
    "        data, target = data.to(device), target.to(device) # to have them on gpu\n",
    "        optimizer.zero_grad()\n",
    "        output = model(data) # prediction\n",
    "        loss = loss_fn(output, target) # prediction to target\n",
    "        loss.backward() # compute gradient of the loss with respect to the parameters\n",
    "        optimizer.step() # update the parameters according to the computed gradients and the learning rate\n",
    "\n",
    "        if (batch_idx % 20 == 0):\n",
    "            print(f'Train epoch: {epoch} [{batch_idx * len(data)}/{len(loaders[\"train\"].dataset)} ({100. * batch_idx / len(loaders[\"train\"]):.0f}%)]\\t{loss.item():.6f}')\n",
    "            # epoch\n",
    "            # how many of how many are already processed of epochs\n",
    "            # how many of how many are already processed of batches\n",
    "            # loss\n",
    "\n",
    "def test():\n",
    "    model.eval() # model to evaluation mode\n",
    "\n",
    "    test_loss = 0\n",
    "    correct = 0\n",
    "\n",
    "    with torch.no_grad(): # disable grad since in eval and no backward calling\n",
    "        for data, target in loaders['test']:\n",
    "            data, target = data.to(device), target.to(device) # to have them on gpu\n",
    "            output = model(data)\n",
    "            test_loss += loss_fn(output, target).item()\n",
    "            pred = output.argmax(dim = 1, keepdim = True)\n",
    "            correct += pred.eq(target.view_as(pred)).sum().item() # we need to shape the target the same way as pred\n",
    "\n",
    "    test_loss /= len(loaders['test'].dataset)\n",
    "    print(f'\\nTest set: Average loss: {test_loss:.4f}, Accuracy {correct}/{len(loaders[\"test\"].dataset)} ({100. * correct / len(loaders[\"test\"].dataset):.0f}%\\n)')\n",
    "    # Average loss\n",
    "    # Accuracy: correct classified instances divided by the total instances"
   ]
  },
  {
   "cell_type": "code",
   "execution_count": 40,
   "metadata": {},
   "outputs": [
    {
     "name": "stderr",
     "output_type": "stream",
     "text": [
      "C:\\Users\\User\\AppData\\Local\\Temp\\ipykernel_17088\\1603986484.py:20: UserWarning: Implicit dimension choice for softmax has been deprecated. Change the call to include dim=X as an argument.\n",
      "  return F.softmax(x)\n"
     ]
    },
    {
     "name": "stdout",
     "output_type": "stream",
     "text": [
      "Train epoch: 1 [0/60000 (0%)]\t2.301711\n",
      "Train epoch: 1 [2000/60000 (3%)]\t2.294564\n",
      "Train epoch: 1 [4000/60000 (7%)]\t2.161079\n",
      "Train epoch: 1 [6000/60000 (10%)]\t2.033225\n",
      "Train epoch: 1 [8000/60000 (13%)]\t1.905081\n",
      "Train epoch: 1 [10000/60000 (17%)]\t1.883372\n",
      "Train epoch: 1 [12000/60000 (20%)]\t1.916981\n",
      "Train epoch: 1 [14000/60000 (23%)]\t1.877374\n",
      "Train epoch: 1 [16000/60000 (27%)]\t1.713758\n",
      "Train epoch: 1 [18000/60000 (30%)]\t1.730513\n",
      "Train epoch: 1 [20000/60000 (33%)]\t1.670714\n",
      "Train epoch: 1 [22000/60000 (37%)]\t1.722477\n",
      "Train epoch: 1 [24000/60000 (40%)]\t1.665545\n",
      "Train epoch: 1 [26000/60000 (43%)]\t1.663201\n",
      "Train epoch: 1 [28000/60000 (47%)]\t1.647442\n",
      "Train epoch: 1 [30000/60000 (50%)]\t1.759225\n",
      "Train epoch: 1 [32000/60000 (53%)]\t1.584877\n",
      "Train epoch: 1 [34000/60000 (57%)]\t1.695922\n",
      "Train epoch: 1 [36000/60000 (60%)]\t1.595092\n",
      "Train epoch: 1 [38000/60000 (63%)]\t1.674335\n",
      "Train epoch: 1 [40000/60000 (67%)]\t1.670383\n",
      "Train epoch: 1 [42000/60000 (70%)]\t1.641192\n",
      "Train epoch: 1 [44000/60000 (73%)]\t1.649399\n",
      "Train epoch: 1 [46000/60000 (77%)]\t1.587759\n",
      "Train epoch: 1 [48000/60000 (80%)]\t1.535971\n",
      "Train epoch: 1 [50000/60000 (83%)]\t1.587460\n",
      "Train epoch: 1 [52000/60000 (87%)]\t1.593371\n",
      "Train epoch: 1 [54000/60000 (90%)]\t1.673019\n",
      "Train epoch: 1 [56000/60000 (93%)]\t1.581418\n",
      "Train epoch: 1 [58000/60000 (97%)]\t1.569532\n",
      "\n",
      "Test set: Average loss: 0.0153, Accuracy 9282/10000 (93%\n",
      ")\n",
      "Train epoch: 2 [0/60000 (0%)]\t1.614986\n",
      "Train epoch: 2 [2000/60000 (3%)]\t1.598052\n",
      "Train epoch: 2 [4000/60000 (7%)]\t1.626615\n",
      "Train epoch: 2 [6000/60000 (10%)]\t1.561535\n",
      "Train epoch: 2 [8000/60000 (13%)]\t1.591636\n",
      "Train epoch: 2 [10000/60000 (17%)]\t1.534930\n",
      "Train epoch: 2 [12000/60000 (20%)]\t1.592135\n",
      "Train epoch: 2 [14000/60000 (23%)]\t1.555407\n",
      "Train epoch: 2 [16000/60000 (27%)]\t1.586312\n",
      "Train epoch: 2 [18000/60000 (30%)]\t1.597291\n",
      "Train epoch: 2 [20000/60000 (33%)]\t1.551989\n",
      "Train epoch: 2 [22000/60000 (37%)]\t1.615178\n",
      "Train epoch: 2 [24000/60000 (40%)]\t1.606702\n",
      "Train epoch: 2 [26000/60000 (43%)]\t1.562760\n",
      "Train epoch: 2 [28000/60000 (47%)]\t1.577175\n",
      "Train epoch: 2 [30000/60000 (50%)]\t1.583574\n",
      "Train epoch: 2 [32000/60000 (53%)]\t1.608245\n",
      "Train epoch: 2 [34000/60000 (57%)]\t1.611324\n",
      "Train epoch: 2 [36000/60000 (60%)]\t1.632002\n",
      "Train epoch: 2 [38000/60000 (63%)]\t1.553995\n",
      "Train epoch: 2 [40000/60000 (67%)]\t1.524326\n",
      "Train epoch: 2 [42000/60000 (70%)]\t1.546246\n",
      "Train epoch: 2 [44000/60000 (73%)]\t1.567136\n",
      "Train epoch: 2 [46000/60000 (77%)]\t1.607701\n",
      "Train epoch: 2 [48000/60000 (80%)]\t1.611829\n",
      "Train epoch: 2 [50000/60000 (83%)]\t1.580322\n",
      "Train epoch: 2 [52000/60000 (87%)]\t1.546802\n",
      "Train epoch: 2 [54000/60000 (90%)]\t1.617920\n",
      "Train epoch: 2 [56000/60000 (93%)]\t1.574051\n",
      "Train epoch: 2 [58000/60000 (97%)]\t1.553284\n",
      "\n",
      "Test set: Average loss: 0.0151, Accuracy 9484/10000 (95%\n",
      ")\n",
      "Train epoch: 3 [0/60000 (0%)]\t1.569116\n",
      "Train epoch: 3 [2000/60000 (3%)]\t1.541294\n",
      "Train epoch: 3 [4000/60000 (7%)]\t1.525784\n",
      "Train epoch: 3 [6000/60000 (10%)]\t1.608935\n",
      "Train epoch: 3 [8000/60000 (13%)]\t1.566038\n",
      "Train epoch: 3 [10000/60000 (17%)]\t1.555460\n",
      "Train epoch: 3 [12000/60000 (20%)]\t1.555767\n",
      "Train epoch: 3 [14000/60000 (23%)]\t1.521833\n",
      "Train epoch: 3 [16000/60000 (27%)]\t1.568214\n",
      "Train epoch: 3 [18000/60000 (30%)]\t1.545437\n",
      "Train epoch: 3 [20000/60000 (33%)]\t1.589358\n",
      "Train epoch: 3 [22000/60000 (37%)]\t1.675148\n",
      "Train epoch: 3 [24000/60000 (40%)]\t1.524375\n",
      "Train epoch: 3 [26000/60000 (43%)]\t1.588253\n",
      "Train epoch: 3 [28000/60000 (47%)]\t1.564710\n",
      "Train epoch: 3 [30000/60000 (50%)]\t1.560908\n",
      "Train epoch: 3 [32000/60000 (53%)]\t1.554103\n",
      "Train epoch: 3 [34000/60000 (57%)]\t1.530201\n",
      "Train epoch: 3 [36000/60000 (60%)]\t1.553618\n",
      "Train epoch: 3 [38000/60000 (63%)]\t1.547330\n",
      "Train epoch: 3 [40000/60000 (67%)]\t1.576089\n",
      "Train epoch: 3 [42000/60000 (70%)]\t1.502672\n",
      "Train epoch: 3 [44000/60000 (73%)]\t1.553176\n",
      "Train epoch: 3 [46000/60000 (77%)]\t1.611836\n",
      "Train epoch: 3 [48000/60000 (80%)]\t1.552921\n",
      "Train epoch: 3 [50000/60000 (83%)]\t1.537536\n",
      "Train epoch: 3 [52000/60000 (87%)]\t1.562636\n",
      "Train epoch: 3 [54000/60000 (90%)]\t1.570802\n",
      "Train epoch: 3 [56000/60000 (93%)]\t1.587947\n",
      "Train epoch: 3 [58000/60000 (97%)]\t1.541394\n",
      "\n",
      "Test set: Average loss: 0.0151, Accuracy 9547/10000 (95%\n",
      ")\n",
      "Train epoch: 4 [0/60000 (0%)]\t1.522779\n",
      "Train epoch: 4 [2000/60000 (3%)]\t1.548313\n",
      "Train epoch: 4 [4000/60000 (7%)]\t1.599414\n",
      "Train epoch: 4 [6000/60000 (10%)]\t1.587456\n",
      "Train epoch: 4 [8000/60000 (13%)]\t1.560106\n",
      "Train epoch: 4 [10000/60000 (17%)]\t1.554320\n",
      "Train epoch: 4 [12000/60000 (20%)]\t1.609631\n",
      "Train epoch: 4 [14000/60000 (23%)]\t1.538055\n",
      "Train epoch: 4 [16000/60000 (27%)]\t1.573536\n",
      "Train epoch: 4 [18000/60000 (30%)]\t1.583608\n",
      "Train epoch: 4 [20000/60000 (33%)]\t1.548291\n",
      "Train epoch: 4 [22000/60000 (37%)]\t1.575559\n",
      "Train epoch: 4 [24000/60000 (40%)]\t1.522932\n",
      "Train epoch: 4 [26000/60000 (43%)]\t1.569259\n",
      "Train epoch: 4 [28000/60000 (47%)]\t1.494693\n",
      "Train epoch: 4 [30000/60000 (50%)]\t1.556679\n",
      "Train epoch: 4 [32000/60000 (53%)]\t1.545318\n",
      "Train epoch: 4 [34000/60000 (57%)]\t1.528960\n",
      "Train epoch: 4 [36000/60000 (60%)]\t1.526393\n",
      "Train epoch: 4 [38000/60000 (63%)]\t1.544917\n",
      "Train epoch: 4 [40000/60000 (67%)]\t1.536713\n",
      "Train epoch: 4 [42000/60000 (70%)]\t1.538622\n",
      "Train epoch: 4 [44000/60000 (73%)]\t1.540196\n",
      "Train epoch: 4 [46000/60000 (77%)]\t1.519102\n",
      "Train epoch: 4 [48000/60000 (80%)]\t1.530528\n",
      "Train epoch: 4 [50000/60000 (83%)]\t1.554233\n",
      "Train epoch: 4 [52000/60000 (87%)]\t1.529057\n",
      "Train epoch: 4 [54000/60000 (90%)]\t1.573758\n",
      "Train epoch: 4 [56000/60000 (93%)]\t1.543591\n",
      "Train epoch: 4 [58000/60000 (97%)]\t1.540799\n",
      "\n",
      "Test set: Average loss: 0.0150, Accuracy 9639/10000 (96%\n",
      ")\n",
      "Train epoch: 5 [0/60000 (0%)]\t1.539657\n",
      "Train epoch: 5 [2000/60000 (3%)]\t1.592124\n",
      "Train epoch: 5 [4000/60000 (7%)]\t1.536741\n",
      "Train epoch: 5 [6000/60000 (10%)]\t1.616148\n",
      "Train epoch: 5 [8000/60000 (13%)]\t1.542885\n",
      "Train epoch: 5 [10000/60000 (17%)]\t1.563464\n",
      "Train epoch: 5 [12000/60000 (20%)]\t1.588835\n",
      "Train epoch: 5 [14000/60000 (23%)]\t1.552360\n",
      "Train epoch: 5 [16000/60000 (27%)]\t1.535759\n",
      "Train epoch: 5 [18000/60000 (30%)]\t1.535164\n",
      "Train epoch: 5 [20000/60000 (33%)]\t1.566518\n",
      "Train epoch: 5 [22000/60000 (37%)]\t1.571895\n",
      "Train epoch: 5 [24000/60000 (40%)]\t1.555147\n",
      "Train epoch: 5 [26000/60000 (43%)]\t1.526750\n",
      "Train epoch: 5 [28000/60000 (47%)]\t1.545780\n",
      "Train epoch: 5 [30000/60000 (50%)]\t1.587500\n",
      "Train epoch: 5 [32000/60000 (53%)]\t1.572917\n",
      "Train epoch: 5 [34000/60000 (57%)]\t1.565631\n",
      "Train epoch: 5 [36000/60000 (60%)]\t1.559869\n",
      "Train epoch: 5 [38000/60000 (63%)]\t1.548470\n",
      "Train epoch: 5 [40000/60000 (67%)]\t1.557154\n",
      "Train epoch: 5 [42000/60000 (70%)]\t1.540407\n",
      "Train epoch: 5 [44000/60000 (73%)]\t1.496179\n",
      "Train epoch: 5 [46000/60000 (77%)]\t1.576750\n",
      "Train epoch: 5 [48000/60000 (80%)]\t1.556687\n",
      "Train epoch: 5 [50000/60000 (83%)]\t1.582189\n",
      "Train epoch: 5 [52000/60000 (87%)]\t1.602480\n",
      "Train epoch: 5 [54000/60000 (90%)]\t1.532772\n",
      "Train epoch: 5 [56000/60000 (93%)]\t1.546805\n",
      "Train epoch: 5 [58000/60000 (97%)]\t1.527861\n",
      "\n",
      "Test set: Average loss: 0.0149, Accuracy 9663/10000 (97%\n",
      ")\n",
      "Train epoch: 6 [0/60000 (0%)]\t1.555335\n",
      "Train epoch: 6 [2000/60000 (3%)]\t1.522116\n",
      "Train epoch: 6 [4000/60000 (7%)]\t1.515854\n",
      "Train epoch: 6 [6000/60000 (10%)]\t1.569189\n",
      "Train epoch: 6 [8000/60000 (13%)]\t1.539252\n",
      "Train epoch: 6 [10000/60000 (17%)]\t1.528706\n",
      "Train epoch: 6 [12000/60000 (20%)]\t1.582542\n",
      "Train epoch: 6 [14000/60000 (23%)]\t1.552420\n",
      "Train epoch: 6 [16000/60000 (27%)]\t1.559639\n",
      "Train epoch: 6 [18000/60000 (30%)]\t1.536965\n",
      "Train epoch: 6 [20000/60000 (33%)]\t1.512557\n",
      "Train epoch: 6 [22000/60000 (37%)]\t1.517499\n",
      "Train epoch: 6 [24000/60000 (40%)]\t1.508846\n",
      "Train epoch: 6 [26000/60000 (43%)]\t1.506803\n",
      "Train epoch: 6 [28000/60000 (47%)]\t1.545239\n",
      "Train epoch: 6 [30000/60000 (50%)]\t1.530663\n",
      "Train epoch: 6 [32000/60000 (53%)]\t1.532827\n",
      "Train epoch: 6 [34000/60000 (57%)]\t1.511911\n",
      "Train epoch: 6 [36000/60000 (60%)]\t1.516603\n",
      "Train epoch: 6 [38000/60000 (63%)]\t1.535736\n",
      "Train epoch: 6 [40000/60000 (67%)]\t1.554986\n",
      "Train epoch: 6 [42000/60000 (70%)]\t1.527647\n",
      "Train epoch: 6 [44000/60000 (73%)]\t1.508885\n",
      "Train epoch: 6 [46000/60000 (77%)]\t1.538192\n",
      "Train epoch: 6 [48000/60000 (80%)]\t1.518651\n",
      "Train epoch: 6 [50000/60000 (83%)]\t1.540706\n",
      "Train epoch: 6 [52000/60000 (87%)]\t1.533970\n",
      "Train epoch: 6 [54000/60000 (90%)]\t1.553800\n",
      "Train epoch: 6 [56000/60000 (93%)]\t1.580421\n",
      "Train epoch: 6 [58000/60000 (97%)]\t1.549850\n",
      "\n",
      "Test set: Average loss: 0.0150, Accuracy 9656/10000 (97%\n",
      ")\n",
      "Train epoch: 7 [0/60000 (0%)]\t1.516303\n",
      "Train epoch: 7 [2000/60000 (3%)]\t1.541731\n",
      "Train epoch: 7 [4000/60000 (7%)]\t1.533563\n",
      "Train epoch: 7 [6000/60000 (10%)]\t1.524012\n",
      "Train epoch: 7 [8000/60000 (13%)]\t1.522761\n",
      "Train epoch: 7 [10000/60000 (17%)]\t1.517422\n",
      "Train epoch: 7 [12000/60000 (20%)]\t1.515191\n",
      "Train epoch: 7 [14000/60000 (23%)]\t1.511681\n",
      "Train epoch: 7 [16000/60000 (27%)]\t1.520690\n",
      "Train epoch: 7 [18000/60000 (30%)]\t1.561210\n",
      "Train epoch: 7 [20000/60000 (33%)]\t1.563560\n",
      "Train epoch: 7 [22000/60000 (37%)]\t1.526785\n",
      "Train epoch: 7 [24000/60000 (40%)]\t1.521825\n",
      "Train epoch: 7 [26000/60000 (43%)]\t1.553841\n",
      "Train epoch: 7 [28000/60000 (47%)]\t1.504115\n",
      "Train epoch: 7 [30000/60000 (50%)]\t1.517418\n",
      "Train epoch: 7 [32000/60000 (53%)]\t1.550839\n",
      "Train epoch: 7 [34000/60000 (57%)]\t1.523368\n",
      "Train epoch: 7 [36000/60000 (60%)]\t1.520840\n",
      "Train epoch: 7 [38000/60000 (63%)]\t1.615880\n",
      "Train epoch: 7 [40000/60000 (67%)]\t1.531049\n",
      "Train epoch: 7 [42000/60000 (70%)]\t1.545150\n",
      "Train epoch: 7 [44000/60000 (73%)]\t1.520324\n",
      "Train epoch: 7 [46000/60000 (77%)]\t1.533333\n",
      "Train epoch: 7 [48000/60000 (80%)]\t1.532153\n",
      "Train epoch: 7 [50000/60000 (83%)]\t1.534044\n",
      "Train epoch: 7 [52000/60000 (87%)]\t1.525877\n",
      "Train epoch: 7 [54000/60000 (90%)]\t1.583834\n",
      "Train epoch: 7 [56000/60000 (93%)]\t1.553192\n",
      "Train epoch: 7 [58000/60000 (97%)]\t1.507053\n",
      "\n",
      "Test set: Average loss: 0.0149, Accuracy 9690/10000 (97%\n",
      ")\n",
      "Train epoch: 8 [0/60000 (0%)]\t1.543238\n",
      "Train epoch: 8 [2000/60000 (3%)]\t1.490770\n",
      "Train epoch: 8 [4000/60000 (7%)]\t1.529698\n",
      "Train epoch: 8 [6000/60000 (10%)]\t1.543336\n",
      "Train epoch: 8 [8000/60000 (13%)]\t1.545705\n",
      "Train epoch: 8 [10000/60000 (17%)]\t1.528385\n",
      "Train epoch: 8 [12000/60000 (20%)]\t1.538453\n",
      "Train epoch: 8 [14000/60000 (23%)]\t1.504234\n",
      "Train epoch: 8 [16000/60000 (27%)]\t1.519216\n",
      "Train epoch: 8 [18000/60000 (30%)]\t1.503565\n",
      "Train epoch: 8 [20000/60000 (33%)]\t1.531629\n",
      "Train epoch: 8 [22000/60000 (37%)]\t1.560245\n",
      "Train epoch: 8 [24000/60000 (40%)]\t1.552505\n",
      "Train epoch: 8 [26000/60000 (43%)]\t1.514979\n",
      "Train epoch: 8 [28000/60000 (47%)]\t1.521453\n",
      "Train epoch: 8 [30000/60000 (50%)]\t1.550738\n",
      "Train epoch: 8 [32000/60000 (53%)]\t1.540000\n",
      "Train epoch: 8 [34000/60000 (57%)]\t1.531881\n",
      "Train epoch: 8 [36000/60000 (60%)]\t1.595936\n",
      "Train epoch: 8 [38000/60000 (63%)]\t1.536276\n",
      "Train epoch: 8 [40000/60000 (67%)]\t1.520781\n",
      "Train epoch: 8 [42000/60000 (70%)]\t1.549470\n",
      "Train epoch: 8 [44000/60000 (73%)]\t1.520355\n",
      "Train epoch: 8 [46000/60000 (77%)]\t1.521763\n",
      "Train epoch: 8 [48000/60000 (80%)]\t1.523753\n",
      "Train epoch: 8 [50000/60000 (83%)]\t1.550068\n",
      "Train epoch: 8 [52000/60000 (87%)]\t1.505880\n",
      "Train epoch: 8 [54000/60000 (90%)]\t1.491783\n",
      "Train epoch: 8 [56000/60000 (93%)]\t1.506636\n",
      "Train epoch: 8 [58000/60000 (97%)]\t1.522966\n",
      "\n",
      "Test set: Average loss: 0.0149, Accuracy 9708/10000 (97%\n",
      ")\n",
      "Train epoch: 9 [0/60000 (0%)]\t1.542823\n",
      "Train epoch: 9 [2000/60000 (3%)]\t1.487248\n",
      "Train epoch: 9 [4000/60000 (7%)]\t1.522676\n",
      "Train epoch: 9 [6000/60000 (10%)]\t1.541435\n",
      "Train epoch: 9 [8000/60000 (13%)]\t1.502068\n",
      "Train epoch: 9 [10000/60000 (17%)]\t1.514220\n",
      "Train epoch: 9 [12000/60000 (20%)]\t1.554219\n",
      "Train epoch: 9 [14000/60000 (23%)]\t1.520079\n",
      "Train epoch: 9 [16000/60000 (27%)]\t1.545702\n",
      "Train epoch: 9 [18000/60000 (30%)]\t1.510541\n",
      "Train epoch: 9 [20000/60000 (33%)]\t1.550310\n",
      "Train epoch: 9 [22000/60000 (37%)]\t1.469431\n",
      "Train epoch: 9 [24000/60000 (40%)]\t1.515094\n",
      "Train epoch: 9 [26000/60000 (43%)]\t1.537190\n",
      "Train epoch: 9 [28000/60000 (47%)]\t1.502506\n",
      "Train epoch: 9 [30000/60000 (50%)]\t1.554711\n",
      "Train epoch: 9 [32000/60000 (53%)]\t1.525938\n",
      "Train epoch: 9 [34000/60000 (57%)]\t1.558946\n",
      "Train epoch: 9 [36000/60000 (60%)]\t1.506923\n",
      "Train epoch: 9 [38000/60000 (63%)]\t1.510356\n",
      "Train epoch: 9 [40000/60000 (67%)]\t1.518659\n",
      "Train epoch: 9 [42000/60000 (70%)]\t1.541195\n",
      "Train epoch: 9 [44000/60000 (73%)]\t1.576146\n",
      "Train epoch: 9 [46000/60000 (77%)]\t1.512052\n",
      "Train epoch: 9 [48000/60000 (80%)]\t1.551211\n",
      "Train epoch: 9 [50000/60000 (83%)]\t1.510702\n",
      "Train epoch: 9 [52000/60000 (87%)]\t1.563717\n",
      "Train epoch: 9 [54000/60000 (90%)]\t1.548741\n",
      "Train epoch: 9 [56000/60000 (93%)]\t1.499160\n",
      "Train epoch: 9 [58000/60000 (97%)]\t1.506269\n",
      "\n",
      "Test set: Average loss: 0.0149, Accuracy 9719/10000 (97%\n",
      ")\n",
      "Train epoch: 10 [0/60000 (0%)]\t1.486191\n",
      "Train epoch: 10 [2000/60000 (3%)]\t1.493957\n",
      "Train epoch: 10 [4000/60000 (7%)]\t1.583811\n",
      "Train epoch: 10 [6000/60000 (10%)]\t1.500499\n",
      "Train epoch: 10 [8000/60000 (13%)]\t1.545265\n",
      "Train epoch: 10 [10000/60000 (17%)]\t1.538833\n",
      "Train epoch: 10 [12000/60000 (20%)]\t1.506751\n",
      "Train epoch: 10 [14000/60000 (23%)]\t1.554671\n",
      "Train epoch: 10 [16000/60000 (27%)]\t1.571945\n",
      "Train epoch: 10 [18000/60000 (30%)]\t1.535426\n",
      "Train epoch: 10 [20000/60000 (33%)]\t1.552701\n",
      "Train epoch: 10 [22000/60000 (37%)]\t1.541661\n",
      "Train epoch: 10 [24000/60000 (40%)]\t1.553801\n",
      "Train epoch: 10 [26000/60000 (43%)]\t1.495988\n",
      "Train epoch: 10 [28000/60000 (47%)]\t1.518100\n",
      "Train epoch: 10 [30000/60000 (50%)]\t1.494396\n",
      "Train epoch: 10 [32000/60000 (53%)]\t1.531259\n",
      "Train epoch: 10 [34000/60000 (57%)]\t1.526551\n",
      "Train epoch: 10 [36000/60000 (60%)]\t1.529697\n",
      "Train epoch: 10 [38000/60000 (63%)]\t1.517072\n",
      "Train epoch: 10 [40000/60000 (67%)]\t1.545515\n",
      "Train epoch: 10 [42000/60000 (70%)]\t1.539495\n",
      "Train epoch: 10 [44000/60000 (73%)]\t1.503631\n",
      "Train epoch: 10 [46000/60000 (77%)]\t1.554794\n",
      "Train epoch: 10 [48000/60000 (80%)]\t1.526541\n",
      "Train epoch: 10 [50000/60000 (83%)]\t1.548177\n",
      "Train epoch: 10 [52000/60000 (87%)]\t1.548565\n",
      "Train epoch: 10 [54000/60000 (90%)]\t1.537440\n",
      "Train epoch: 10 [56000/60000 (93%)]\t1.505179\n",
      "Train epoch: 10 [58000/60000 (97%)]\t1.518075\n",
      "\n",
      "Test set: Average loss: 0.0149, Accuracy 9737/10000 (97%\n",
      ")\n"
     ]
    }
   ],
   "source": [
    "for epoch in range(1, 11):\n",
    "    train(epoch)\n",
    "    test()"
   ]
  },
  {
   "cell_type": "code",
   "execution_count": 41,
   "metadata": {},
   "outputs": [
    {
     "data": {
      "text/plain": [
       "device(type='cpu')"
      ]
     },
     "execution_count": 41,
     "metadata": {},
     "output_type": "execute_result"
    }
   ],
   "source": [
    "device"
   ]
  },
  {
   "cell_type": "code",
   "execution_count": 45,
   "metadata": {},
   "outputs": [],
   "source": [
    "# Save the model\n",
    "torch.save(model.state_dict(), '    .pth')"
   ]
  },
  {
   "cell_type": "code",
   "execution_count": 46,
   "metadata": {},
   "outputs": [
    {
     "name": "stdout",
     "output_type": "stream",
     "text": [
      "Prediction: 7\n"
     ]
    },
    {
     "name": "stderr",
     "output_type": "stream",
     "text": [
      "C:\\Users\\User\\AppData\\Local\\Temp\\ipykernel_17088\\1603986484.py:20: UserWarning: Implicit dimension choice for softmax has been deprecated. Change the call to include dim=X as an argument.\n",
      "  return F.softmax(x)\n"
     ]
    },
    {
     "data": {
      "image/png": "[encoded data removed]",
      "text/plain": [
       "<Figure size 640x480 with 1 Axes>"
      ]
     },
     "metadata": {},
     "output_type": "display_data"
    }
   ],
   "source": [
    "import matplotlib.pyplot as plt\n",
    "\n",
    "model.eval()\n",
    "\n",
    "data, target = test_data[0]\n",
    "\n",
    "data = data.unsqueeze(0).to(device) # means we are adding batch dimension so we can entry not as 1 data point but as a collection of 1 data point\n",
    "\n",
    "output = model(data)\n",
    "\n",
    "prediction = output.argmax(dim=1, keepdim=True).item()\n",
    "\n",
    "print(f'Prediction: {prediction}')\n",
    "\n",
    "image = data.squeeze(0).squeeze(0).cpu().numpy() # opposite operation, so we unpack layers, we unpack the image from the data, then we squeeze out the channel dimensions\n",
    "\n",
    "plt.imshow(image, cmap='gray')\n",
    "plt.show()"
   ]
  },
  {
   "cell_type": "code",
   "execution_count": null,
   "metadata": {},
   "outputs": [],
   "source": [
    "# # Now, let's use the saved model to classify images from an input folder\n",
    "# import os\n",
    "# import cv2\n",
    "\n",
    "# # Load the saved model\n",
    "# saved_model = CNN().to(device)\n",
    "# saved_model.load_state_dict(torch.load('digit_recog_model.pth'))\n",
    "# saved_model.eval()\n",
    "\n",
    "# # Define a function to classify an image\n",
    "# def classify_image(image_path):\n",
    "#     image = cv2.imread(image_path, cv2.IMREAD_GRAYSCALE)\n",
    "#     image_tensor = torch.tensor(image / 255., dtype=torch.float32).unsqueeze(0).unsqueeze(0).to(device) # Convert to tensor and add batch dimension\n",
    "#     output = saved_model(image_tensor)\n",
    "#     prediction = output.argmax(dim=1, keepdim=True).item()\n",
    "#     return prediction\n",
    "\n",
    "# # Path to the input folder containing images to classify\n",
    "# input_folder = r'C:\\Users\\User\\Desktop\\Project\\Code\\yolov5\\inputs\\test_ocr'\n",
    "\n",
    "# # Classify images in the input folder\n",
    "# for filename in os.listdir(input_folder):\n",
    "#     if filename.endswith(\".jpg\") or filename.endswith(\".png\"):\n",
    "#         image_path = os.path.join(input_folder, filename)\n",
    "#         prediction = classify_image(image_path)\n",
    "#         print(f'Image: {filename}, Prediction: {prediction}')"
   ]
  }
 ],
 "metadata": {
  "kernelspec": {
   "display_name": "Python 3",
   "language": "python",
   "name": "python3"
  },
  "language_info": {
   "codemirror_mode": {
    "name": "ipython",
    "version": 3
   },
   "file_extension": ".py",
   "mimetype": "text/x-python",
   "name": "python",
   "nbconvert_exporter": "python",
   "pygments_lexer": "ipython3",
   "version": "3.11.2"
  }
 },
 "nbformat": 4,
 "nbformat_minor": 2
}
